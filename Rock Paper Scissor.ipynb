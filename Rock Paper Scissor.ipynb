{
 "cells": [
  {
   "cell_type": "code",
   "execution_count": 1,
   "id": "f83e6b2d",
   "metadata": {},
   "outputs": [
    {
     "name": "stdout",
     "output_type": "stream",
     "text": [
      "Enetr a choice( rock,paper,scissor ):paper\n",
      "Plyer:paper\n",
      "computer:paper\n"
     ]
    }
   ],
   "source": [
    "import random\n",
    "\n",
    "option = (\"rock\", \"paper\",\"scissor\")\n",
    "player = None\n",
    "\n",
    "computer = random.choice(option)\n",
    "\n",
    "player = input(\"Enetr a choice( rock,paper,scissor ):\")\n",
    "\n",
    "print(f\"Plyer:{player}\")\n",
    "print(f\"computer:{computer}\")"
   ]
  },
  {
   "cell_type": "code",
   "execution_count": null,
   "id": "e8bbc978",
   "metadata": {},
   "outputs": [
    {
     "name": "stdout",
     "output_type": "stream",
     "text": [
      "Enetr a choice( rock,paper,scissor ):gun\n"
     ]
    }
   ],
   "source": [
    "#choose an valid option\n",
    "import random\n",
    "\n",
    "option = (\"rock\", \"paper\",\"scissor\")\n",
    "player = None\n",
    "\n",
    "computer = random.choice(option)\n",
    "\n",
    "while player not in option:\n",
    "    player = input(\"Enetr a choice( rock,paper,scissor ):\")\n",
    "\n",
    "print(f\"Plyer:{player}\")\n",
    "print(f\"computer:{computer}\")"
   ]
  },
  {
   "cell_type": "code",
   "execution_count": 1,
   "id": "0830f2c9",
   "metadata": {},
   "outputs": [
    {
     "name": "stdout",
     "output_type": "stream",
     "text": [
      "Enetr a choice( rock,paper,scissor ):paper\n",
      "Plyer:paper\n",
      "computer:paper\n",
      "Tie!\n"
     ]
    }
   ],
   "source": [
    "import random\n",
    "\n",
    "option = (\"rock\", \"paper\",\"scissor\")\n",
    "player = None\n",
    "\n",
    "computer = random.choice(option)\n",
    "\n",
    "while player not in option:\n",
    "    player = input(\"Enetr a choice( rock,paper,scissor ):\")\n",
    "\n",
    "    \n",
    "print(f\"Plyer:{player}\")\n",
    "print(f\"computer:{computer}\")\n",
    "\n",
    "\n",
    "if player == computer:\n",
    "    print(\"Tie!\")\n",
    "\n",
    "elif player == \"rock\" and computer == \"scissor\":\n",
    "    print(\"You Win!\")\n",
    "    \n",
    "elif player == \"paper\" and computer == \"rock\":\n",
    "    print(\"You Win!\")\n",
    "    \n",
    "elif player == \"scissor\" and computer == \"paper\":\n",
    "    print(\"You Win!\")\n",
    "    \n",
    "else:\n",
    "    print(\"You Loose!\")\n",
    "\n"
   ]
  },
  {
   "cell_type": "code",
   "execution_count": null,
   "id": "e5f98c7a",
   "metadata": {},
   "outputs": [
    {
     "name": "stdout",
     "output_type": "stream",
     "text": [
      "Enetr a choice( rock,paper,scissor ):paper\n",
      "Plyer:paper\n",
      "computer:rock\n",
      "You Win!\n",
      "Enetr a choice( rock,paper,scissor ):scissor\n",
      "Plyer:scissor\n",
      "computer:paper\n",
      "You Win!\n",
      "Enetr a choice( rock,paper,scissor ):gun\n"
     ]
    }
   ],
   "source": [
    "import random\n",
    "\n",
    "option = (\"rock\", \"paper\",\"scissor\")\n",
    "\n",
    "\n",
    "playing = True\n",
    "\n",
    "while playing:\n",
    "    player = None\n",
    "    computer = random.choice(option)\n",
    "    \n",
    "    while player not in option:\n",
    "        player = input(\"Enetr a choice( rock,paper,scissor ):\")\n",
    "\n",
    "    \n",
    "    print(f\"Plyer:{player}\")\n",
    "    print(f\"computer:{computer}\")\n",
    "\n",
    "\n",
    "    if player == computer:\n",
    "        print(\"Tie!\")\n",
    "\n",
    "    elif player == \"rock\" and computer == \"scissor\":\n",
    "        print(\"You Win!\")\n",
    "    \n",
    "    elif player == \"paper\" and computer == \"rock\":\n",
    "        print(\"You Win!\")\n",
    "    \n",
    "    elif player == \"scissor\" and computer == \"paper\":\n",
    "        print(\"You Win!\")\n",
    "    \n",
    "    else:\n",
    "        print(\"You Loose!\")"
   ]
  },
  {
   "cell_type": "code",
   "execution_count": null,
   "id": "cde81864",
   "metadata": {},
   "outputs": [
    {
     "name": "stdout",
     "output_type": "stream",
     "text": [
      "Enetr a choice( rock,paper,scissor ):paper\n",
      "Player:paper\n",
      "computer:rock\n",
      "You Win!\n",
      "Play Again (y/n):y\n",
      "Enetr a choice( rock,paper,scissor ):scissor\n",
      "Player:scissor\n",
      "computer:rock\n",
      "You Loose!\n"
     ]
    }
   ],
   "source": [
    "import random\n",
    "\n",
    "option = (\"rock\", \"paper\",\"scissor\")\n",
    "\n",
    "\n",
    "playing = True\n",
    "\n",
    "while playing:\n",
    "    player = None\n",
    "    computer = random.choice(option)\n",
    "    \n",
    "    while player not in option:\n",
    "        player = input(\"Enetr a choice( rock,paper,scissor ):\")\n",
    "\n",
    "    \n",
    "    print(f\"Player:{player}\")\n",
    "    print(f\"computer:{computer}\")\n",
    "\n",
    "\n",
    "    if player == computer:\n",
    "        print(\"Tie!\")\n",
    "\n",
    "    elif player == \"rock\" and computer == \"scissor\":\n",
    "        print(\"You Win!\")\n",
    "    \n",
    "    elif player == \"paper\" and computer == \"rock\":\n",
    "        print(\"You Win!\")\n",
    "    \n",
    "    elif player == \"scissor\" and computer == \"paper\":\n",
    "        print(\"You Win!\")\n",
    "    \n",
    "    else:\n",
    "        print(\"You Loose!\")\n",
    "    play_again = input(\"Play Again (y/n):\").lower()\n",
    "    if not play_again == \"y\":\n",
    "        playing = False\n",
    "        \n",
    "print(\"Thanks For Playing\")"
   ]
  },
  {
   "cell_type": "code",
   "execution_count": null,
   "id": "497eb717",
   "metadata": {},
   "outputs": [],
   "source": []
  }
 ],
 "metadata": {
  "kernelspec": {
   "display_name": "Python 3 (ipykernel)",
   "language": "python",
   "name": "python3"
  },
  "language_info": {
   "codemirror_mode": {
    "name": "ipython",
    "version": 3
   },
   "file_extension": ".py",
   "mimetype": "text/x-python",
   "name": "python",
   "nbconvert_exporter": "python",
   "pygments_lexer": "ipython3",
   "version": "3.9.12"
  }
 },
 "nbformat": 4,
 "nbformat_minor": 5
}
